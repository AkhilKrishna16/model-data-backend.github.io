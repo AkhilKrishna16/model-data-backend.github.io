{
 "cells": [
  {
   "cell_type": "code",
   "execution_count": 35,
   "metadata": {},
   "outputs": [],
   "source": [
    "import requests\n",
    "import uuid\n",
    "from app import DataModel\n",
    "from datetime import datetime\n",
    "import json"
   ]
  },
  {
   "cell_type": "code",
   "execution_count": 25,
   "metadata": {},
   "outputs": [
    {
     "name": "stdout",
     "output_type": "stream",
     "text": [
      "b'{\"message\":\"Data successfully added to Redis\",\"score_id\":\"abc68293-cea0-4897-920a-7a1f43b7cfd9\"}'\n"
     ]
    }
   ],
   "source": [
    "URL = \"http://127.0.0.1:8000\"\n",
    "res = requests.post(\n",
    "    url=URL + \"/model\",\n",
    "    json={\"model_id\": str(uuid.uuid4()), \"scores\": {\"0\": 0.01, \"1\": 0.02}, \"user_id\": str(uuid.uuid4()), \"score_id\": str(uuid.uuid4())}\n",
    ")\n",
    "\n",
    "print(res.content)"
   ]
  },
  {
   "cell_type": "code",
   "execution_count": 41,
   "metadata": {},
   "outputs": [
    {
     "name": "stdout",
     "output_type": "stream",
     "text": [
      "{'model_id': 'd065e72e-57ab-4906-a5c6-b8321f1f186b', 'scores': {'0': 0.01, '1': 0.02}, 'user_id': 'f2059ea7-3ee1-4f75-9e05-e30dab287c10', 'timestamp': '2024-12-18T21:48:27.281597', 'score_id': 'abc68293-cea0-4897-920a-7a1f43b7cfd9'}\n"
     ]
    }
   ],
   "source": [
    "score_id = \"abc68293-cea0-4897-920a-7a1f43b7cfd9\"\n",
    "\n",
    "res = requests.get(\n",
    "    url=URL + f\"/model/{score_id}\",\n",
    ")\n",
    "\n",
    "res_decoded = res.json()\n",
    "print(res_decoded)"
   ]
  }
 ],
 "metadata": {
  "kernelspec": {
   "display_name": "backend_fast",
   "language": "python",
   "name": "python3"
  },
  "language_info": {
   "codemirror_mode": {
    "name": "ipython",
    "version": 3
   },
   "file_extension": ".py",
   "mimetype": "text/x-python",
   "name": "python",
   "nbconvert_exporter": "python",
   "pygments_lexer": "ipython3",
   "version": "3.13.0"
  }
 },
 "nbformat": 4,
 "nbformat_minor": 2
}

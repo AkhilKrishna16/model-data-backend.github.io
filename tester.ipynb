{
 "cells": [
  {
   "cell_type": "code",
   "execution_count": 65,
   "metadata": {},
   "outputs": [],
   "source": [
    "import requests\n",
    "import uuid\n",
    "from app import DataModel\n",
    "from datetime import datetime"
   ]
  },
  {
   "cell_type": "code",
   "execution_count": 66,
   "metadata": {},
   "outputs": [],
   "source": [
    "import requests.cookies\n",
    "\n",
    "URL = \"http://127.0.0.1:8000\"\n",
    "\n",
    "user_id = uuid.uuid4()\n",
    "score_id = uuid.uuid4()\n",
    "model_id = uuid.uuid4()\n",
    "res = requests.post(\n",
    "    url=URL + \"/model\",\n",
    "    json={\"model_id\": str(model_id), \"scores\": {\"0\": 0.01, \"1\": 0.02}, \"user_id\": str(user_id), \"score_id\": str(score_id)}\n",
    ")"
   ]
  },
  {
   "cell_type": "code",
   "execution_count": 67,
   "metadata": {},
   "outputs": [
    {
     "name": "stdout",
     "output_type": "stream",
     "text": [
      "{'model_id': '51c53d2d-384b-4e61-836d-3426a5102eeb', 'scores': {'0': 0.01, '1': 0.02}, 'user_id': '23b0aea5-e93e-4807-b6b8-d7058971ce59', 'timestamp': '2024-12-19T13:19:00.594312', 'score_id': '81a51938-b66e-46ba-afc6-2dfcc942604f'}\n"
     ]
    }
   ],
   "source": [
    "res = requests.get(\n",
    "    url=URL + f\"/model/{score_id}\",\n",
    ")\n",
    "\n",
    "res_decoded = res.json()\n",
    "print(res_decoded)"
   ]
  }
 ],
 "metadata": {
  "kernelspec": {
   "display_name": "backend_fast",
   "language": "python",
   "name": "python3"
  },
  "language_info": {
   "codemirror_mode": {
    "name": "ipython",
    "version": 3
   },
   "file_extension": ".py",
   "mimetype": "text/x-python",
   "name": "python",
   "nbconvert_exporter": "python",
   "pygments_lexer": "ipython3",
   "version": "3.13.0"
  }
 },
 "nbformat": 4,
 "nbformat_minor": 2
}

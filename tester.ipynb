{
 "cells": [
  {
   "cell_type": "code",
   "execution_count": 13,
   "metadata": {},
   "outputs": [],
   "source": [
    "import requests\n",
    "import uuid\n",
    "from app import DataModel\n",
    "from datetime import datetime"
   ]
  },
  {
   "cell_type": "code",
   "execution_count": null,
   "metadata": {},
   "outputs": [
    {
     "name": "stdout",
     "output_type": "stream",
     "text": [
      "<bound method Response.json of <Response [405]>>\n"
     ]
    }
   ],
   "source": [
    "URL = \"http://127.0.0.1:8000\"\n",
    "\n",
    "model = DataModel(model_id=uuid.uuid4(), scores={\"0\": 0.01, \"1\": 0.02}, user_id=uuid.uuid4(), timestamp=datetime.now(), score_id=uuid.uuid4())\n",
    "res = requests.post(URL, json={\n",
    "    \"model\": model.model_dump_json(),\n",
    "    \"score_id\": 1114\n",
    "})\n",
    "\n",
    "print(res.content)"
   ]
  }
 ],
 "metadata": {
  "kernelspec": {
   "display_name": "backend_fast",
   "language": "python",
   "name": "python3"
  },
  "language_info": {
   "codemirror_mode": {
    "name": "ipython",
    "version": 3
   },
   "file_extension": ".py",
   "mimetype": "text/x-python",
   "name": "python",
   "nbconvert_exporter": "python",
   "pygments_lexer": "ipython3",
   "version": "3.13.0"
  }
 },
 "nbformat": 4,
 "nbformat_minor": 2
}
